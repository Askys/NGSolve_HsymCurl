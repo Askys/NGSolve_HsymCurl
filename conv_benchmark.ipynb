{
 "cells": [
  {
   "cell_type": "code",
   "execution_count": 1,
   "id": "political-forest",
   "metadata": {},
   "outputs": [],
   "source": [
    "from ngsolve.fem import CompilePythonModule\n",
    "from pathlib import Path\n",
    "\n",
    "txt = Path('mymodule.cpp').read_text() \n",
    "m = CompilePythonModule(Path('mymodule.cpp'), init_function_name='mymodule')"
   ]
  },
  {
   "cell_type": "code",
   "execution_count": 196,
   "id": "phantom-watch",
   "metadata": {},
   "outputs": [
    {
     "data": {
      "application/vnd.jupyter.widget-view+json": {
       "model_id": "e4345cab60d845ef9d5eaf8e883b67db",
       "version_major": 2,
       "version_minor": 0
      },
      "text/plain": [
       "WebGuiWidget(layout=Layout(height='50vh', width='100%'), value={'gui_settings': {}, 'ngsolve_version': '6.2.23…"
      ]
     },
     "metadata": {},
     "output_type": "display_data"
    },
    {
     "data": {
      "text/plain": [
       "BaseWebGuiScene"
      ]
     },
     "execution_count": 196,
     "metadata": {},
     "output_type": "execute_result"
    }
   ],
   "source": [
    "refinement = 1\n",
    "l = refinement*4\n",
    "mesh = MakeStructured3DMesh(False,nx=3*int(l),ny=int(1*l),nz=int(1*l), mapping= lambda x,y,z : (-3+6*x,-1+2*y,-1+2*z))\n",
    "Draw (mesh)"
   ]
  },
  {
   "cell_type": "code",
   "execution_count": 197,
   "id": "incomplete-pressing",
   "metadata": {},
   "outputs": [
    {
     "name": "stdout",
     "output_type": "stream",
     "text": [
      "148386\n"
     ]
    }
   ],
   "source": [
    "fesHsC = m.MyNedMatFESpace(mesh,order=1) # 0 for Y^0, S^0, otherwise 1.\n",
    "fes = fesHsC\n",
    "\n",
    "print(fes.ndof)"
   ]
  },
  {
   "cell_type": "code",
   "execution_count": 198,
   "id": "chief-portable",
   "metadata": {},
   "outputs": [
    {
     "data": {
      "application/vnd.jupyter.widget-view+json": {
       "model_id": "8a4e1e7d7e2e4e64b5d361b03dee5760",
       "version_major": 2,
       "version_minor": 0
      },
      "text/plain": [
       "WebGuiWidget(layout=Layout(height='50vh', width='100%'), value={'gui_settings': {}, 'ngsolve_version': '6.2.23…"
      ]
     },
     "metadata": {},
     "output_type": "display_data"
    },
    {
     "data": {
      "text/plain": [
       "BaseWebGuiScene"
      ]
     },
     "execution_count": 198,
     "metadata": {},
     "output_type": "execute_result"
    }
   ],
   "source": [
    "tol = 1e-10\n",
    "\n",
    "# Jumping constant identity\n",
    "O = CF( (0, 0, 0,\n",
    "         0, 0, 0,\n",
    "         0, 0, 0), dims=(3,3) )\n",
    "\n",
    "I = CF( (1, 0, 0,\n",
    "         0, 1, 0,\n",
    "         0, 0, 1), dims=(3,3) )\n",
    "\n",
    "R = IfPos( Norm(x) - 1 - tol, O, I  )\n",
    "\n",
    "# Jumping idenity\n",
    "# O = CF( (0, 0, 0,\n",
    "#          0, 0, 0,\n",
    "#          0, 0, 0), dims=(3,3) )\n",
    "\n",
    "# I = CF( (1, 0, 0,\n",
    "#          0, 1, 0,\n",
    "#          0, 0, 1), dims=(3,3) )\n",
    "\n",
    "# V = sin(x + 2. * y - 3. * z) * I\n",
    "\n",
    "# R = IfPos( Norm(x) - 1 - tol, V, 2*V  )\n",
    "\n",
    "# Jumping normal\n",
    "# O = CF( (0, 0, 0,\n",
    "#          0, 0, 0,\n",
    "#          0, 0, 0), dims=(3,3) )\n",
    "\n",
    "# I = CF( (1, 0, 0,\n",
    "#          1, 0, 0,\n",
    "#          1, 0, 0), dims=(3,3) )\n",
    "\n",
    "# R = IfPos( Norm(x) - 1 - tol, sin(x)*I ,  cos(x)*I  )\n",
    "\n",
    "#Contininous field\n",
    "# O = CF( (0, 0, 0,\n",
    "#          0, 0, 0,\n",
    "#          0, 0, 0), dims=(3,3) )\n",
    "\n",
    "# I = CF( (1, 0, 0,\n",
    "#          0, 0, 0,\n",
    "#          0, 0, 0), dims=(3,3) )\n",
    "\n",
    "# R = sinh(x)/10*I\n",
    "\n",
    "clipping = { \"pnt\" : (0,0,0), \"vec\" : (0,1,0) }\n",
    "Draw(R,mesh,clipping=clipping)"
   ]
  },
  {
   "cell_type": "code",
   "execution_count": 199,
   "id": "above-lawsuit",
   "metadata": {},
   "outputs": [],
   "source": [
    "P, dP = fes.TnT()\n",
    "a = BilinearForm(fes, symmetric=True, symmetric_storage=True, condense=False)\n",
    "a += (InnerProduct(dP, P) \n",
    "      + InnerProduct(curl(dP), curl(P)) # Actually symCurl\n",
    "     )*dx\n",
    "\n",
    "f = LinearForm(fes)\n",
    "f += (InnerProduct(dP, R))*dx\n",
    "\n",
    "sol = GridFunction(fes)"
   ]
  },
  {
   "cell_type": "code",
   "execution_count": 200,
   "id": "criminal-undergraduate",
   "metadata": {},
   "outputs": [],
   "source": [
    "sol.vec[:] = 0\n",
    "\n",
    "r = sol.vec.CreateVector()\n",
    "w = sol.vec.CreateVector()"
   ]
  },
  {
   "cell_type": "code",
   "execution_count": 201,
   "id": "indian-sydney",
   "metadata": {
    "scrolled": false
   },
   "outputs": [],
   "source": [
    "with TaskManager():\n",
    "    f.Assemble()\n",
    "    a.Assemble()\n",
    "    inv = a.mat.Inverse(fes.FreeDofs(a.condense), inverse=\"sparsecholesky\")\n",
    "\n",
    "    a.Apply(sol.vec, r)\n",
    "    \n",
    "    r.data -= f.vec\n",
    "    if a.condense:\n",
    "        r.data += a.harmonic_extension_trans * r\n",
    "    w.data = inv * r\n",
    "    if a.condense:\n",
    "        w.data += a.harmonic_extension * w\n",
    "        w.data += a.inner_solve * r\n",
    "    sol.vec.data -= w"
   ]
  },
  {
   "cell_type": "code",
   "execution_count": 202,
   "id": "expected-honey",
   "metadata": {},
   "outputs": [],
   "source": [
    "gfR0 = CF ( (sol[0,0],sol[0,1],sol[0,2]) )\n",
    "gfR1 = CF ( (sol[1,0],sol[1,1],sol[1,2]) )\n",
    "gfR2 = CF ( (sol[2,0],sol[2,1],sol[2,2]) )\n",
    "\n",
    "\n",
    "clipping = { \"pnt\" : (0,0,0), \"vec\" : (0,1,0) }\n",
    "Draw(gfR0, mesh, \"P\", clipping=clipping, draw_surf=False, vectors={\"grid_size\":100})\n",
    "Draw(gfR1, mesh, \"P\", clipping=clipping, draw_surf=False, vectors={\"grid_size\":100})\n",
    "Draw(gfR2, mesh, \"P\", clipping=clipping, draw_surf=False, vectors={\"grid_size\":100})"
   ]
  }
 ],
 "metadata": {
  "kernelspec": {
   "display_name": "Python 3",
   "language": "python",
   "name": "python3"
  },
  "language_info": {
   "codemirror_mode": {
    "name": "ipython",
    "version": 3
   },
   "file_extension": ".py",
   "mimetype": "text/x-python",
   "name": "python",
   "nbconvert_exporter": "python",
   "pygments_lexer": "ipython3",
   "version": "3.7.3"
  }
 },
 "nbformat": 4,
 "nbformat_minor": 5
}
